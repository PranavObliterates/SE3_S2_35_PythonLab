{
  "nbformat": 4,
  "nbformat_minor": 0,
  "metadata": {
    "colab": {
      "provenance": []
    },
    "kernelspec": {
      "name": "python3",
      "display_name": "Python 3"
    },
    "language_info": {
      "name": "python"
    }
  },
  "cells": [
    {
      "cell_type": "code",
      "execution_count": 2,
      "metadata": {
        "colab": {
          "base_uri": "https://localhost:8080/"
        },
        "id": "jd5o4au_pXW1",
        "outputId": "964ad368-1f44-4f81-ec44-2e7e763ab308"
      },
      "outputs": [
        {
          "output_type": "stream",
          "name": "stdout",
          "text": [
            "Enter your string aabbb\n",
            "True\n"
          ]
        }
      ],
      "source": [
        "class ConditionalStatements:\n",
        "    def checkString(self, s: str) -> bool:\n",
        "        decision = False\n",
        "\n",
        "        for letter in s:\n",
        "            letterA = False\n",
        "            letterB = False\n",
        "\n",
        "            if letter == 'b':\n",
        "                letterB = True\n",
        "                decision = True\n",
        "            elif letter == 'a':\n",
        "                letterA = True\n",
        "\n",
        "            if letterA and decision:\n",
        "                return False\n",
        "\n",
        "        return True\n",
        "\n",
        "conditional = ConditionalStatements()\n",
        "\n",
        "x = input(\"Enter your string \")\n",
        "\n",
        "result = conditional.checkString(x)\n",
        "\n",
        "print(result)"
      ]
    },
    {
      "cell_type": "code",
      "source": [
        "class ConditionalStatements:\n",
        "    def checkString(self, s: str) -> bool:\n",
        "        decision = False\n",
        "\n",
        "        for letter in s:\n",
        "            letterA = False\n",
        "            letterB = False\n",
        "\n",
        "            if letter == 'b':\n",
        "                letterB = True\n",
        "                decision = True\n",
        "            elif letter == 'a':\n",
        "                letterA = True\n",
        "\n",
        "            if letterA and decision:\n",
        "                return False\n",
        "\n",
        "        return True\n",
        "\n",
        "conditional = ConditionalStatements()\n",
        "\n",
        "x = input(\"Enter your string \")\n",
        "\n",
        "result = conditional.checkString(x)\n",
        "\n",
        "print(result)"
      ],
      "metadata": {
        "colab": {
          "base_uri": "https://localhost:8080/"
        },
        "id": "-D0G0B0TqMri",
        "outputId": "d63a2f5b-7493-40ba-ba78-a3b24e1aa01a"
      },
      "execution_count": 3,
      "outputs": [
        {
          "output_type": "stream",
          "name": "stdout",
          "text": [
            "Enter your string bbbaba\n",
            "False\n"
          ]
        }
      ]
    },
    {
      "cell_type": "code",
      "source": [],
      "metadata": {
        "id": "OG7igDW960LV"
      },
      "execution_count": null,
      "outputs": []
    }
  ]
}