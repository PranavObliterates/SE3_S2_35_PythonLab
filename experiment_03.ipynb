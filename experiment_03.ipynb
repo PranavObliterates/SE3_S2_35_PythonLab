{
  "nbformat": 4,
  "nbformat_minor": 0,
  "metadata": {
    "colab": {
      "provenance": []
    },
    "kernelspec": {
      "name": "python3",
      "display_name": "Python 3"
    },
    "language_info": {
      "name": "python"
    }
  },
  "cells": [
    {
      "cell_type": "code",
      "execution_count": 10,
      "metadata": {
        "colab": {
          "base_uri": "https://localhost:8080/"
        },
        "id": "9c0CzC9DvO3b",
        "outputId": "88e96802-0287-4300-c617-965470cd3e56"
      },
      "outputs": [
        {
          "output_type": "stream",
          "name": "stdout",
          "text": [
            "Does Employee know Frontend Development?(1->Yes/0->No)\n",
            "0\n",
            "Does Employee know Backend Development?(1->Yes/0->No)\n",
            "0\n",
            "Not a Developer\n"
          ]
        }
      ],
      "source": [
        "'''\n",
        "General case represents that developer working on\n",
        "frontend cannot work backend development unless he/she is fullstack dev.\n",
        "\n",
        "Write a method named verifier () that checks this condition.\n",
        "\n",
        "The method should check that if frontend is True and backend is True,\n",
        "the method returns Fullstack as string. If one of them is True, it should return\n",
        "the respective desgination, and if none of them are true, it returns,\n",
        "not a developer respectively.\n",
        "'''\n",
        "\n",
        "class Employee:\n",
        "    def __init__ (\n",
        "            self,\n",
        "            frontend : bool = False,\n",
        "            backend : bool = False\n",
        "    ):\n",
        "        self.designation = \"Developer\"\n",
        "        self.frontend = frontend\n",
        "        self.backend = backend\n",
        "\n",
        "    def __repr__ (self):\n",
        "        return '{}'.format (self.designation, self.frontend, self.backend)\n",
        "\n",
        "    ### Write the your method over here.\n",
        "    def verifier (self):\n",
        "        if ((self.backend) and (self.frontend)):\n",
        "            return 'Fullstack '\n",
        "        elif self.backend:\n",
        "            return 'Backend '\n",
        "        elif self.frontend:\n",
        "            return 'Frontend'\n",
        "        else:\n",
        "            return 'Not a'\n",
        "\n",
        "\n",
        "frnt = bool(int(input(\"Does Employee know Frontend Development?(1->Yes/0->No)\\n\")))\n",
        "bck = bool(int(input(\"Does Employee know Backend Development?(1->Yes/0->No)\\n\")))\n",
        "firstEmployee = Employee (frontend=frnt, backend=bck)\n",
        "result = firstEmployee.verifier()\n",
        "print(result, firstEmployee.designation)"
      ]
    },
    {
      "cell_type": "code",
      "source": [
        "\n"
      ],
      "metadata": {
        "id": "rXGeMe78-CFP"
      },
      "execution_count": null,
      "outputs": []
    }
  ]
}