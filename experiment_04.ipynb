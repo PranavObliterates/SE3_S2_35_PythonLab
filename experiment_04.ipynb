{
  "nbformat": 4,
  "nbformat_minor": 0,
  "metadata": {
    "colab": {
      "provenance": []
    },
    "kernelspec": {
      "name": "python3",
      "display_name": "Python 3"
    },
    "language_info": {
      "name": "python"
    }
  },
  "cells": [
    {
      "cell_type": "code",
      "execution_count": 4,
      "metadata": {
        "colab": {
          "base_uri": "https://localhost:8080/"
        },
        "id": "hbHbgvyl_qA9",
        "outputId": "578995a4-4fef-424e-d44b-6bba099bd6d2"
      },
      "outputs": [
        {
          "output_type": "stream",
          "name": "stdout",
          "text": [
            "\n",
            "After Writing:\n",
            "The truth is...\n",
            "\n",
            "After appending:\n",
            "The truth is... I am Ironman.\n"
          ]
        }
      ],
      "source": [
        "from contextlib import contextmanager\n",
        "\n",
        "@contextmanager\n",
        "def genericFileFunction(filename, method):\n",
        "    file = open(filename, method)\n",
        "    yield file\n",
        "    file.close()\n",
        "\n",
        "if __name__ == '__main__':\n",
        "    try:\n",
        "        # Remove the pass and call the function to perform write.\n",
        "        with genericFileFunction(\"exp4.txt\", \"w\") as f:\n",
        "            f.write(\"The truth is...\")\n",
        "            print(\"\\nAfter Writing:\")\n",
        "\n",
        "        # Read the file that was created while writing.\n",
        "        with genericFileFunction(\"exp4.txt\", \"r\") as f:\n",
        "            print(f.read())\n",
        "\n",
        "        # Make the changes in the file by appending some material.\n",
        "        with genericFileFunction(\"exp4.txt\", \"a\") as f:\n",
        "            f.write(\" I am Ironman.\")\n",
        "            print(\"\\nAfter appending:\")\n",
        "\n",
        "        # Again read the same file.\n",
        "        with genericFileFunction(\"exp4.txt\", \"r\") as f:\n",
        "            print(f.read())\n",
        "\n",
        "    except Exception as e:\n",
        "        print(e)\n"
      ]
    },
    {
      "cell_type": "code",
      "source": [],
      "metadata": {
        "id": "v2i04dFG7Nuy"
      },
      "execution_count": 1,
      "outputs": []
    }
  ]
}
