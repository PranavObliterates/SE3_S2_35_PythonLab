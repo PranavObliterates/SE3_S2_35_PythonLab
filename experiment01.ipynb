{
  "cells": [
    {
      "cell_type": "markdown",
      "metadata": {
        "id": "YcdVTUTWyFpi"
      },
      "source": [
        "### Strings in Python"
      ]
    },
    {
      "cell_type": "code",
      "execution_count": null,
      "metadata": {
        "id": "YnknKy5OyFpk",
        "outputId": "6ffcfa87-00bc-46d8-843a-271b223b921a"
      },
      "outputs": [
        {
          "name": "stdout",
          "output_type": "stream",
          "text": [
            "This is a string\n",
            "This is a string\n",
            "This is a string\n"
          ]
        }
      ],
      "source": [
        "# Assigning string to a variable\n",
        "a = 'This is a string'\n",
        "print (a)\n",
        "b = \"This is a string\"\n",
        "print (b)\n",
        "c= '''This is a string'''\n",
        "print (c)"
      ]
    },
    {
      "cell_type": "markdown",
      "metadata": {
        "id": "Cc5_DHG7yFpl"
      },
      "source": [
        "### Lists in Python"
      ]
    },
    {
      "cell_type": "code",
      "execution_count": null,
      "metadata": {
        "id": "2I-SGRduyFpl",
        "outputId": "27aed4ae-e2a8-4e4c-beba-fe0d897745cf"
      },
      "outputs": [
        {
          "name": "stdout",
          "output_type": "stream",
          "text": [
            "[1, 'a', 'string', 3]\n",
            "[1, 'a', 'string', 3, 6]\n",
            "[1, 'a', 'string', 3]\n",
            "a\n"
          ]
        }
      ],
      "source": [
        "# Declaring a list\n",
        "L = [1, \"a\" , \"string\" , 1+2]\n",
        "print (L)\n",
        "#Adding an element in the list\n",
        "L.append(6)\n",
        "print (L)\n",
        "#Deleting last element from a list\n",
        "L.pop()\n",
        "print (L)\n",
        "#Displaying Second element of the list\n",
        "print (L[1])"
      ]
    },
    {
      "cell_type": "markdown",
      "metadata": {
        "id": "1C2UhBwKyFpl"
      },
      "source": [
        "### Tuples in Python"
      ]
    },
    {
      "cell_type": "code",
      "execution_count": null,
      "metadata": {
        "id": "HNgmLYlpyFpm",
        "outputId": "8aa729b8-a097-4d77-e5a3-b32ad5c8f885"
      },
      "outputs": [
        {
          "name": "stdout",
          "output_type": "stream",
          "text": [
            "(1, 'a', 'string', 3)\n",
            "a\n"
          ]
        }
      ],
      "source": [
        "tup = (1, \"a\", \"string\", 1+2)\n",
        "print(tup)\n",
        "print(tup[1])"
      ]
    },
    {
      "cell_type": "markdown",
      "metadata": {
        "id": "JBfJ_UfFyFpm"
      },
      "source": [
        "### Dictionaries in Python"
      ]
    },
    {
      "cell_type": "markdown",
      "metadata": {
        "id": "j7tb3Ly4yFpn"
      },
      "source": [
        "A Python dictionary is a data structure that stores the value in key: value pairs. Values in a dictionary can be of any data type and can be duplicated, whereas keys can’t be repeated and must be immutable."
      ]
    },
    {
      "cell_type": "code",
      "execution_count": null,
      "metadata": {
        "id": "m07WjOF5yFpn",
        "outputId": "6da7220a-2d21-46ef-e699-508a082bc871"
      },
      "outputs": [
        {
          "name": "stdout",
          "output_type": "stream",
          "text": [
            "{1: 'Lorem', 2: 'Ipsum', 3: 'Dolerum'}\n"
          ]
        }
      ],
      "source": [
        "d = {1: 'Lorem', 2: 'Ipsum', 3: 'Dolerum'}\n",
        "print(d)"
      ]
    },
    {
      "cell_type": "markdown",
      "metadata": {
        "id": "NhANzynmyFpn"
      },
      "source": [
        "#### Create a Dictionary"
      ]
    },
    {
      "cell_type": "code",
      "execution_count": null,
      "metadata": {
        "id": "4cP8q0-IyFpn",
        "outputId": "691aa840-c489-417e-90cb-50c230fe23f1",
        "colab": {
          "base_uri": "https://localhost:8080/"
        }
      },
      "outputs": [
        {
          "output_type": "stream",
          "name": "stdout",
          "text": [
            "{1: 'Game', 2: 'of', 3: 'Thrones'}\n",
            "{'a': 'House', 'b': 'of', 'c': 'Cards'}\n"
          ]
        }
      ],
      "source": [
        "# create dictionary using { }\n",
        "d1 = {1: 'Game', 2: 'of', 3: 'Thrones'}\n",
        "print(d1)\n",
        "\n",
        "# create dictionary using dict() constructor\n",
        "d2 = dict(a = \"House\", b = \"of\", c = \"Cards\")\n",
        "print(d2)"
      ]
    },
    {
      "cell_type": "markdown",
      "metadata": {
        "id": "yX3_xa6cyFpn"
      },
      "source": [
        "#### Accessing Dictionary Items"
      ]
    },
    {
      "cell_type": "code",
      "execution_count": null,
      "metadata": {
        "id": "lsPRaawFyFpo",
        "outputId": "d5978d89-6ae9-4ed5-c3e3-7dfd47f5ad18"
      },
      "outputs": [
        {
          "name": "stdout",
          "output_type": "stream",
          "text": [
            "Alice\n",
            "Alice\n"
          ]
        }
      ],
      "source": [
        "d = { \"name\": \"Alice\", 1: \"Python\", (1, 2): [1,2,4] }\n",
        "\n",
        "# Access using key\n",
        "print(d[\"name\"])\n",
        "\n",
        "# Access using get()\n",
        "print(d.get(\"name\"))"
      ]
    },
    {
      "cell_type": "markdown",
      "metadata": {
        "id": "t0cEY_4wyFpo"
      },
      "source": [
        "#### Adding and Updating Dictionary Items\n",
        "\n"
      ]
    },
    {
      "cell_type": "code",
      "execution_count": null,
      "metadata": {
        "id": "S7RnldL5yFpo",
        "outputId": "f4c32c43-8fb3-41a4-de92-4c0114474515"
      },
      "outputs": [
        {
          "name": "stdout",
          "output_type": "stream",
          "text": [
            "{1: 'Python dict', 2: 'of', 3: 'Thrones', 'age': 22}\n"
          ]
        }
      ],
      "source": [
        "d = {1: 'Game', 2: 'of', 3: 'Thrones'}\n",
        "\n",
        "# Adding a new key-value pair\n",
        "d[\"age\"] = 22\n",
        "\n",
        "# Updating an existing value\n",
        "d[1] = \"Python dict\"\n",
        "\n",
        "print(d)"
      ]
    },
    {
      "cell_type": "markdown",
      "source": [
        "# Deleting an element from dictionary\n",
        "\n",
        "\n"
      ],
      "metadata": {
        "id": "YPkr2WuSHzv6"
      }
    },
    {
      "cell_type": "code",
      "source": [
        "d = {1: 'Avengers', 2: 'Age', 3: 'of', 4: 'Ultron'}\n",
        "\n",
        "val = d.pop(1)\n",
        "print(val)\n",
        "print(d)\n",
        "\n",
        "d[1] = \"Marvel\"\n",
        "del d[2]\n",
        "print(d)"
      ],
      "metadata": {
        "id": "vojt7_wOIdRH",
        "colab": {
          "base_uri": "https://localhost:8080/"
        },
        "outputId": "8440f2c5-1bcb-4003-acca-fb30bff1d34c"
      },
      "execution_count": 2,
      "outputs": [
        {
          "output_type": "stream",
          "name": "stdout",
          "text": [
            "Avengers\n",
            "{2: 'Age', 3: 'of', 4: 'Ultron'}\n",
            "{3: 'of', 4: 'Ultron', 1: 'Marvel'}\n"
          ]
        }
      ]
    },
    {
      "cell_type": "code",
      "source": [],
      "metadata": {
        "id": "6SZVGenLK_Lv"
      },
      "execution_count": null,
      "outputs": []
    }
  ],
  "metadata": {
    "kernelspec": {
      "display_name": "Python 3",
      "language": "python",
      "name": "python3"
    },
    "language_info": {
      "codemirror_mode": {
        "name": "ipython",
        "version": 3
      },
      "file_extension": ".py",
      "mimetype": "text/x-python",
      "name": "python",
      "nbconvert_exporter": "python",
      "pygments_lexer": "ipython3",
      "version": "3.11.5"
    },
    "colab": {
      "provenance": []
    }
  },
  "nbformat": 4,
  "nbformat_minor": 0
}